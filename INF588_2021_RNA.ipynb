{
  "nbformat": 4,
  "nbformat_minor": 0,
  "metadata": {
    "colab": {
      "name": "INF588-2021-RNA.ipynb",
      "private_outputs": true,
      "provenance": [],
      "collapsed_sections": [
        "PpyYNiDApIOB",
        "OOnY9HZip-39",
        "d9H4MqtYqKeh",
        "KGP2oqZ6q0bs",
        "7ZKaqesgq-Ee",
        "VT4gDTWIrCqg",
        "Q6PBkZk6rIN_",
        "b0WA4QB0rLro",
        "XdCfVJLtriRs",
        "OrluaorLr9Xv",
        "c1BvG_Vnr-wV",
        "n8OaOhw2sAjp",
        "BMgXefKmsVss",
        "ymhx-2awse8L",
        "bDJ9TSpUvOfB",
        "Y5nXn9KzvfU_"
      ],
      "include_colab_link": true
    },
    "kernelspec": {
      "name": "python3",
      "display_name": "Python 3"
    }
  },
  "cells": [
    {
      "cell_type": "markdown",
      "metadata": {
        "id": "view-in-github",
        "colab_type": "text"
      },
      "source": [
        "<a href=\"https://colab.research.google.com/github/jeannetous/hello-world/blob/master/INF588_2021_RNA.ipynb\" target=\"_parent\"><img src=\"https://colab.research.google.com/assets/colab-badge.svg\" alt=\"Open In Colab\"/></a>"
      ]
    },
    {
      "cell_type": "markdown",
      "metadata": {
        "id": "21awqVPFIqf2"
      },
      "source": [
        "# Notebook for INF588 2021, RNA alignment folding project\n",
        "\n",
        "## How to use this document\n",
        "\n",
        "This Jupyter notebook serves several purposes:\n",
        "\n",
        "* It introduces the Vienna RNA pacakage for use in our project\n",
        "\n",
        "* It shows how to set up a development environment, including Python, Biopython and the Vienna RNA package, in Colab. If everything goes well, one can set up this environment by runnning all cells (or by running only the cells of the Installation-Section).\n",
        "\n",
        "* It provides examples for the use of the Vienna package from Python as well as from command lines - providing a mini-tutorial tailored to our needs.The code is executable on Colab, thanks to the previous point.\n",
        "\n",
        "* Finally, it provides a pointer to test data and let you upload it to Colab.\n",
        "\n",
        "One can develop code for the project within Colab, e.g. by extending this document. This should work well as a start and is recommended if you don't have a local setup yet, or if you are using Windows. In the longer run (ideally until the next session), it is recommended to set up a local installation.\n",
        "\n",
        "Please use the provided information to briefly familiarize yourself with the elementary functionality of the Vienna package before you start coding. Almost ready to use example code is provided and some theory was discussed on the slides, so you should not spend too much time on this."
      ]
    },
    {
      "cell_type": "markdown",
      "metadata": {
        "id": "M-VH6R83LgSI"
      },
      "source": [
        "## The Vienna RNA package\n",
        "\n",
        "We use the Vienna RNA package (mainly) to predict Minimum Free Energy structures of RNAs as well as to predict base pair probabilities; moreover, to call RNAalifold for comparison and benchmarks. These uses will be demonstrated in this document.\n",
        "\n",
        "The Vienna package is available from\n",
        "\n",
        "https://www.tbi.univie.ac.at/RNA/\n",
        "\n",
        "At this page one finds (among other things)\n",
        "\n",
        "* **Download links and installation instructions.** However note that for work in the Colab environment, it is recommended to follow the instructions / run the code below. For local installation, Conda is recommended for Mac/Linux. For **Windows**: use the Windows installer of ViennaRNA (which installs command line tools, but no Python bindings) or work in the Colab environment (such that the package functions can be more easily used from Python). Note that one can still install Python and Biopython via Conda under Windows. \n",
        "\n",
        "* **Documentation of command line tools and Python bindings** (https://www.tbi.univie.ac.at/RNA/documentation.html). Most essential information to use the package for our purposes will be given below.\n",
        "\n"
      ]
    },
    {
      "cell_type": "markdown",
      "metadata": {
        "id": "aqtE589yLexc"
      },
      "source": [
        "## Installation of Biopython and module RNA from the Vienna RNA package in Colab"
      ]
    },
    {
      "cell_type": "markdown",
      "metadata": {
        "id": "-IB2VEWMI93K"
      },
      "source": [
        "Before we start, let's do a quick check, whether Biopython and/or RNA is already available. "
      ]
    },
    {
      "cell_type": "code",
      "metadata": {
        "id": "5u2bMc_SzSQ3"
      },
      "source": [
        "def check(name,check):\n",
        "    print(\"Check\",name,\"\\t... \",end=\"\")\n",
        "    try:\n",
        "        check(); print(\"seems available\")\n",
        "    except: print(\"not (properly) installed\")\n",
        "\n",
        "def check_bp():\n",
        "    from Bio.Seq import Seq; Seq('acgtgact')\n",
        "def check_vrna():\n",
        "    import RNA; RNA.fold_compound('acgcuacg').mfe()\n",
        "\n",
        "check(\"Biopython\",check_bp)\n",
        "check(\"Vienna RNA\",check_vrna)"
      ],
      "execution_count": null,
      "outputs": []
    },
    {
      "cell_type": "markdown",
      "metadata": {
        "id": "7T41xrzzOCN2"
      },
      "source": [
        "For installing Biopython and the Vienna RNA package, we will first enable package management by Conda, such that we can then install the package by a single command: ```conda install bioconda viennarna```. How to make Conda available on Colab is taken from https://towardsdatascience.com/conda-google-colab-75f7c867a522. Note that this is slightly more complex than a local installation on Linux (or Mac), which could similarily work by first installing conda (from miniconda) and then running the above install command (see also the Section on local installation in the Biopython notebook:\n",
        "https://colab.research.google.com/drive/1CvjJCVFMHfdlRnICuTYMYH8pSHtEr2rW?usp=sharing).\n",
        "\n",
        "We start by running a view checks to ensure that the installation still fits our collab environment."
      ]
    },
    {
      "cell_type": "code",
      "metadata": {
        "id": "jRc_ILjGOp84"
      },
      "source": [
        "!which python # should return /usr/local/bin/python\n",
        "!python --version  # we assume Python 3.6.9\n",
        "!echo $PYTHONPATH  # whether this is set or not,\n",
        "%env PYTHONPATH=   #   we will just unset it"
      ],
      "execution_count": null,
      "outputs": []
    },
    {
      "cell_type": "markdown",
      "metadata": {
        "id": "hbw3f0_VWAvN"
      },
      "source": [
        "We are installing the Conda distribution miniconda. This will work if the above checks returned the expected results. Otherwise, the procedure may need some update. "
      ]
    },
    {
      "cell_type": "code",
      "metadata": {
        "id": "-7KtgvVWPJnW"
      },
      "source": [
        "%%bash\n",
        "\n",
        "MINICONDA_INSTALLER_SCRIPT=Miniconda3-4.5.4-Linux-x86_64.sh\n",
        "MINICONDA_PREFIX=/usr/local\n",
        "wget https://repo.continuum.io/miniconda/$MINICONDA_INSTALLER_SCRIPT\n",
        "chmod +x $MINICONDA_INSTALLER_SCRIPT\n",
        "./$MINICONDA_INSTALLER_SCRIPT -b -f -p $MINICONDA_PREFIX"
      ],
      "execution_count": null,
      "outputs": []
    },
    {
      "cell_type": "markdown",
      "metadata": {
        "id": "jA1m9ambV-Ep"
      },
      "source": [
        "Check whether this worked as intended\n"
      ]
    },
    {
      "cell_type": "code",
      "metadata": {
        "id": "oiOJwyXRPkQl"
      },
      "source": [
        "!which conda # should return /usr/local/bin/conda\n",
        "!conda --version # should return 4.5.4\n",
        "!which python # still returns /usr/local/bin/python\n",
        "!python --version # now returns Python 3.6.5 :: Anaconda, Inc."
      ],
      "execution_count": null,
      "outputs": []
    },
    {
      "cell_type": "markdown",
      "metadata": {
        "id": "g5mWiHBbV5vn"
      },
      "source": [
        "If we got the expected results, we furthermore update conda  (this can take a while) and then check again, whether the update succeeded."
      ]
    },
    {
      "cell_type": "code",
      "metadata": {
        "id": "e2tG4DNjP2l0"
      },
      "source": [
        "%%bash\n",
        "\n",
        "conda install --channel defaults conda python=3.6 --yes\n",
        "conda update --channel defaults --all --yes"
      ],
      "execution_count": null,
      "outputs": []
    },
    {
      "cell_type": "markdown",
      "metadata": {
        "id": "XGNfud08Wpgs"
      },
      "source": [
        "The checks should report at least the same version numbers of Conda and Python (otherwise, it is very likely that something went wrong before)."
      ]
    },
    {
      "cell_type": "code",
      "metadata": {
        "id": "63CXUNDBP_ob"
      },
      "source": [
        "!conda --version # now returns 4.8.3\n",
        "!python --version # now returns Python 3.6.12 :: Anaconda, Inc."
      ],
      "execution_count": null,
      "outputs": []
    },
    {
      "cell_type": "code",
      "metadata": {
        "id": "TnNpUWW-QN8a"
      },
      "source": [
        "import sys\n",
        "sys.path.append(\"/usr/local/lib/python3.6/site-packages\")"
      ],
      "execution_count": null,
      "outputs": []
    },
    {
      "cell_type": "markdown",
      "metadata": {
        "id": "9IJ0_aK7QWNA"
      },
      "source": [
        "From here, the Conda package manager is set up and ready to use. Let's install the Vienna RNA Pacakge and it's module RNA (which was our motivation to install conda in the first place):"
      ]
    },
    {
      "cell_type": "code",
      "metadata": {
        "id": "o1TGD4o9QUG9"
      },
      "source": [
        "!conda install -y -c bioconda viennarna biopython"
      ],
      "execution_count": null,
      "outputs": []
    },
    {
      "cell_type": "markdown",
      "metadata": {
        "id": "ahiYgfEncA43"
      },
      "source": [
        "It remains to check the installation, before we go on:\n"
      ]
    },
    {
      "cell_type": "code",
      "metadata": {
        "id": "w31H4S0-b6TQ"
      },
      "source": [
        "try:\n",
        "  from Bio.Seq import Seq\n",
        "  import RNA\n",
        "  seq = Seq('gcatgacgttattacgactctgtcacgccgcggtgcgactgaggcgtggcgtctgctggg')\n",
        "  fc = RNA.fold_compound(str(seq))\n",
        "  fc.mfe()\n",
        "  print(\"So far, so good :)\")\n",
        "except:\n",
        "  print(\"Something went wrong\")"
      ],
      "execution_count": null,
      "outputs": []
    },
    {
      "cell_type": "markdown",
      "metadata": {
        "id": "Addb5J6LLQbV"
      },
      "source": [
        "## Usage of the Vienna RNA package"
      ]
    },
    {
      "cell_type": "markdown",
      "metadata": {
        "id": "-UuIlruCOuon"
      },
      "source": [
        "### Using Python bindings / module RNA\n",
        "\n",
        "One finds more than the below purely elementary usage in the API documentation:\n",
        "\n",
        "https://www.tbi.univie.ac.at/RNA/documentation.html#api"
      ]
    },
    {
      "cell_type": "markdown",
      "metadata": {
        "id": "qzu13xCRO0Tp"
      },
      "source": [
        "#### Predicting the Minimum free energy structure"
      ]
    },
    {
      "cell_type": "code",
      "metadata": {
        "id": "yYGquGHgJ8ve"
      },
      "source": [
        "## Code adapted from the Vienna RNA package API documentation\n",
        "\n",
        "import RNA\n",
        "# The RNA sequence\n",
        "sequence = \"GAGUAGUGGAACCAGGCUAUGUUUGUGACUCGCAGACUAACA\"\n",
        "\n",
        "# create a new model details structure\n",
        "md = RNA.md()\n",
        "\n",
        "# optionally one could change all kinds of parameters\n",
        "# md.temperature = 25.0 # 25 Deg Celcius\n",
        "# md.dangles = 1 # keep default dangles=2 for compatibility with partition folding\n",
        "\n",
        "# create a fold compound\n",
        "fc = RNA.fold_compound(sequence, md)\n",
        "\n",
        "# predict Minmum Free Energy and corresponding secondary structure\n",
        "(ss, mfe) = fc.mfe()\n",
        "\n",
        "# print sequence, structure and MFE\n",
        "print(\"%s\\n%s [ %6.2f ]\\n\" % (sequence, ss, mfe))\n",
        "\n",
        "# parse the dot-bracket structure:\n",
        "# RNA.ptable returns a table, such that table[i]=j if (i.j) pair or 0 if i is unpaired.\n",
        "# note: positions are 1-based; table[0] contains the length of the structure.\n",
        "pt = RNA.ptable(ss)\n",
        "print(pt)"
      ],
      "execution_count": null,
      "outputs": []
    },
    {
      "cell_type": "markdown",
      "metadata": {
        "id": "um6XmLZGQV_v"
      },
      "source": [
        "#### Predicting partition funtions and base pair probabilities"
      ]
    },
    {
      "cell_type": "code",
      "metadata": {
        "id": "CXNjxKF-QcJX"
      },
      "source": [
        "## Code adapted from the Vienna RNA package API documentation\n",
        "\n",
        "import RNA\n",
        "sequence = \"GAGUAGUGGAACCAGGCUAUGUUUGUGACUCGCAGACUAACA\"\n",
        "# create model details\n",
        "md = RNA.md()\n",
        "# activate unique multibranch loop decomposition\n",
        "md.uniq_ML = 1\n",
        "# create fold compound object\n",
        "fc = RNA.fold_compound(sequence, md)\n",
        "# compute MFE\n",
        "(ss, mfe) = fc.mfe()\n",
        "# rescale Boltzmann factors according to MFE; rescaling avoids numerical problems for long sequences\n",
        "fc.exp_params_rescale(mfe)\n",
        "# compute partition function to fill DP matrices\n",
        "fc.pf()\n",
        "\n",
        "# get a matrix of base pair probabilities (attention: this matrix is 1-based), only entries i<j are meaningful\n",
        "bpp = fc.bpp()\n",
        "print(bpp)\n",
        "\n",
        "# compute unpaired probabilities (0-based):\n",
        "unp = [1-sum(bpp[i+1]) for i in range(0,len(sequence))]\n",
        "print(unp)\n",
        "\n",
        "# produce simple 'dot plot'\n",
        "import matplotlib.pyplot as plt\n",
        "bpp2 = [p**2 for row in bpp[1:] for p in row[1:]]\n",
        "plt.imshow(bpp)\n"
      ],
      "execution_count": null,
      "outputs": []
    },
    {
      "cell_type": "markdown",
      "metadata": {
        "id": "xNneIY2uRzuv"
      },
      "source": [
        "#### Predicting RNAalifold structures"
      ]
    },
    {
      "cell_type": "code",
      "metadata": {
        "id": "hYTkIXRBSRhv"
      },
      "source": [
        "import RNA\n",
        "# The RNA sequence\n",
        "\n",
        "alignment = [\"GGAGGAUUAGCUCAGCUGGGAGAGCAUCUGCCUUACAAGCAGAGGG-----------UCGGCGGUUCGAGCCCGUCAUCCUCC\",\n",
        "\"GCCUUCCUAGCUCAG-UGGUAGAGCGCACGGCUUUUAACCGUGUGG-----------UCGUGGGUUCGAUCCCCACGGAAGGC\",\n",
        "\"GCCUUUAUAGCUUAG-UGGUAAAGCGAUAAACUGAAGAUUUAUUUA-----------CAUGUAGUUCGAUUCUCAUUAAGGGC\",\n",
        "\"GCGGAUAUAACUUAGGGGUUAAAGUUGCAGAUUGUGGCUCUGAAAA------------CACGGGUUCGAAUCCCGUUAUUCGC\",\n",
        "\"GGAAAAUU-GAUCAUCGGCAAGAUAAGUUAUUUACUAAAUAAUAGGAUUUAAUAACCUGGUGAGUUCGAAUCUCACAUUUUCC\"\n",
        "]\n",
        "\n",
        "# create a new model details structure\n",
        "md = RNA.md()\n",
        "# optionally one could change some parameters\n",
        "# md.temperature = 25.0 # 25 Deg Celcius\n",
        "# md.dangles = 1 # keep default 2 for compatibility with partition folding\n",
        "# create a fold compound\n",
        "fc = RNA.fold_compound(alignment, md)\n",
        "# predict Minmum Free Energy and corresponding secondary structure\n",
        "(ss, mfe) = fc.mfe()\n",
        "conservation_score = fc.eval_covar_structure(ss)\n",
        "print(\"%s\\n%s [ %6.2f, %6.2f ]\\n\" % ('\\n'.join(alignment), ss, mfe, conservation_score))"
      ],
      "execution_count": null,
      "outputs": []
    },
    {
      "cell_type": "markdown",
      "metadata": {
        "id": "5L9mRCQLUPBt"
      },
      "source": [
        "### Using command line tools\n",
        "\n",
        "We demonstrate very basic usage (still sufficient for our purposes), please find more information in the online documentation, man pages or using option --help of the tools. \n",
        "\n",
        "#### MFE structure prediction"
      ]
    },
    {
      "cell_type": "code",
      "metadata": {
        "id": "XKlzZNQiUWEJ"
      },
      "source": [
        "%%bash\n",
        "echo GAGUAGUGGAACCAGGCUAUGUUUGUGACUCGCAGACUAACA | RNAfold "
      ],
      "execution_count": null,
      "outputs": []
    },
    {
      "cell_type": "markdown",
      "metadata": {
        "id": "Zzs6We5bU3J7"
      },
      "source": [
        "Additionally, a 2D plot of the predicted structure is written to rna.ps and can be viewe using a postscript / pdf viewer."
      ]
    },
    {
      "cell_type": "markdown",
      "metadata": {
        "id": "XA7f6l3lUqa2"
      },
      "source": [
        "#### Partition function and base pair probability prediction"
      ]
    },
    {
      "cell_type": "code",
      "metadata": {
        "id": "TphdrldKUwJ5"
      },
      "source": [
        "%%bash\n",
        "echo GAGUAGUGGAACCAGGCUAUGUUUGUGACUCGCAGACUAACA | RNAfold -p"
      ],
      "execution_count": null,
      "outputs": []
    },
    {
      "cell_type": "markdown",
      "metadata": {
        "id": "bbA1bMPLU1yO"
      },
      "source": [
        "Additionally to rna.ps this command writes dot.ps; the latter file is viewable and readable/parsable. It contains the base pair probabilities.\n",
        "\n",
        "One can extract these probabilities, e.g. as follows"
      ]
    },
    {
      "cell_type": "code",
      "metadata": {
        "id": "OsTBpMJXV1jP"
      },
      "source": [
        "import re\n",
        "import math\n",
        "with open('dot.ps') as fh:\n",
        "    bplist = list()\n",
        "    for line in fh:\n",
        "        m = re.match(r\"(\\d+) (\\d+) (\\d+.\\d+) ubox$\",line)\n",
        "        if m:\n",
        "            i,j,p2 = int(m[1]),int(m[2]),float(m[3])\n",
        "            p = math.sqrt(p2)\n",
        "            bplist.append((i,j,p))\n",
        "# bplist is a list of base pairs with probabilities; only probabilities >= 10^6.\n",
        "print(bplist)"
      ],
      "execution_count": null,
      "outputs": []
    },
    {
      "cell_type": "markdown",
      "metadata": {
        "id": "nBw5lQOEXode"
      },
      "source": [
        "#### Folding an alignment"
      ]
    },
    {
      "cell_type": "code",
      "metadata": {
        "id": "GqP52_w6Xz1a"
      },
      "source": [
        "%%bash\n",
        "\n",
        "# first generate an input file\n",
        "echo >alignment.aln \"CLUSTAL W\n",
        "AF008220           GGAGGAUUAGCUCAGCUGGGAGAGCAUCUGCCUUACAAGCAGAGGG-----------UCGGCGGUUCGAGCCCGUCAUCCUCC\n",
        "Z11880             GCCUUCCUAGCUCAG-UGGUAGAGCGCACGGCUUUUAACCGUGUGG-----------UCGUGGGUUCGAUCCCCACGGAAGGC\n",
        "X02172             GCCUUUAUAGCUUAG-UGGUAAAGCGAUAAACUGAAGAUUUAUUUA-----------CAUGUAGUUCGAUUCUCAUUAAGGGC\n",
        "M68929             GCGGAUAUAACUUAGGGGUUAAAGUUGCAGAUUGUGGCUCUGAAAA------------CACGGGUUCGAAUCCCGUUAUUCGC\n",
        "D10744             GGAAAAUU-GAUCAUCGGCAAGAUAAGUUAUUUACUAAAUAAUAGGAUUUAAUAACCUGGUGAGUUCGAAUCUCACAUUUUCC\n",
        "\"\n",
        "\n",
        "# call RNAalifold on the file\n",
        "RNAalifold --aln < alignment.aln"
      ],
      "execution_count": null,
      "outputs": []
    },
    {
      "cell_type": "markdown",
      "metadata": {
        "id": "NTW6-4c3hELO"
      },
      "source": [
        "This writes additional files alirna.ps and aln.ps."
      ]
    },
    {
      "cell_type": "markdown",
      "metadata": {
        "id": "B2RwBCorel1r"
      },
      "source": [
        "## Test data\n",
        "\n",
        "Find test data here\n",
        "https://www.lix.polytechnique.fr/~will/Teaching/INF588-2021/Testdata\n",
        "\n",
        "Can your program handle all of the diverse examples (in different file formats)?\n",
        "\n",
        "Here is one way to download the data to Colab by downloading my archive and unpacking. The files will be written to subdirectory Testdata"
      ]
    },
    {
      "cell_type": "code",
      "metadata": {
        "id": "hY6R79kXe1xs"
      },
      "source": [
        "%%bash\n",
        "ARC=testdata.tar.gz\n",
        "if [ -e \"$ARC\" ] ; then rm -rf \"$ARC\" ; fi\n",
        "wget \"https://www.lix.polytechnique.fr/~will/Teaching/INF588-2021/$ARC\" > /dev/null 2>&1\n",
        "tar xvzf \"$ARC\""
      ],
      "execution_count": null,
      "outputs": []
    },
    {
      "cell_type": "markdown",
      "metadata": {
        "id": "R9ZOD0QBekpj"
      },
      "source": [
        "## You can start coding here...\n",
        "\n",
        "Some words about coding environments (as already discussed before): It can be convenient to start the work for the project on Colab - in this way, one does not have to install Python, Bioconda and Vienna RNA locally. In the longer run (from next session), it will have advantages to run in a local Jupyter Notebook (e.g. install via ```conda install jupyter```) or some other local Python environment. This is mainly, since running larger computations in Colab is tricky and as well, Colab will require you to reinstall conda, biopython and viennarna in each new Colab session.\n",
        "\n",
        "Unfortunately, Windows-users have the problem that the Vienna RNA package Python bindings / using ```module RNA``` will not work locally - a reasonable workaround can be to call the RNA prediction tools via system calls and parse their output (the Section \"Using command line tools\" shows how to do this).\n"
      ]
    },
    {
      "cell_type": "code",
      "metadata": {
        "id": "vfhqHMlDtDSz"
      },
      "source": [
        ""
      ],
      "execution_count": null,
      "outputs": []
    }
  ]
}